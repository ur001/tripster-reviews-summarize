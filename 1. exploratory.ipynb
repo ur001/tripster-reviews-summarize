{
 "cells": [
  {
   "cell_type": "markdown",
   "metadata": {},
   "source": [
    "# Отзывы на экскурсии Tripster.ru — исследование даных"
   ]
  },
  {
   "cell_type": "code",
   "execution_count": 56,
   "metadata": {},
   "outputs": [
    {
     "name": "stdout",
     "output_type": "stream",
     "text": [
      "Populating the interactive namespace from numpy and matplotlib\n"
     ]
    }
   ],
   "source": [
    "import os\n",
    "import re\n",
    "import warnings\n",
    "import pandas as pd\n",
    "import numpy as np\n",
    "import matplotlib.pyplot as plt\n",
    "\n",
    "warnings.simplefilter('ignore') # отключаем ворнинги\n",
    "data_dir = \"./data\"\n",
    "%pylab inline\n",
    "%config InlineBackend.figure_format = 'retina'"
   ]
  },
  {
   "cell_type": "markdown",
   "metadata": {},
   "source": [
    "## Загрузка и обработка"
   ]
  },
  {
   "cell_type": "code",
   "execution_count": 3,
   "metadata": {},
   "outputs": [],
   "source": [
    "def data_path(relative_path):\n",
    "    return os.path.join(data_dir, relative_path)\n",
    "\n",
    "def load_reviews():\n",
    "    print('Loading reviews...')\n",
    "    return pd.read_csv(\n",
    "        data_path('reviews.csv'),\n",
    "        header=0,\n",
    "        names=['id', 'subject', 'author', 'rate', 'text']\n",
    "    )"
   ]
  },
  {
   "cell_type": "code",
   "execution_count": 4,
   "metadata": {},
   "outputs": [
    {
     "name": "stdout",
     "output_type": "stream",
     "text": [
      "Loading reviews...\n",
      "33393 items loaded\n"
     ]
    },
    {
     "data": {
      "text/html": [
       "<div>\n",
       "<style scoped>\n",
       "    .dataframe tbody tr th:only-of-type {\n",
       "        vertical-align: middle;\n",
       "    }\n",
       "\n",
       "    .dataframe tbody tr th {\n",
       "        vertical-align: top;\n",
       "    }\n",
       "\n",
       "    .dataframe thead th {\n",
       "        text-align: right;\n",
       "    }\n",
       "</style>\n",
       "<table border=\"1\" class=\"dataframe\">\n",
       "  <thead>\n",
       "    <tr style=\"text-align: right;\">\n",
       "      <th></th>\n",
       "      <th>id</th>\n",
       "      <th>subject</th>\n",
       "      <th>author</th>\n",
       "      <th>rate</th>\n",
       "      <th>text</th>\n",
       "    </tr>\n",
       "  </thead>\n",
       "  <tbody>\n",
       "    <tr>\n",
       "      <th>0</th>\n",
       "      <td>2</td>\n",
       "      <td>1381</td>\n",
       "      <td>1024</td>\n",
       "      <td>5.0</td>\n",
       "      <td>Экскурсия прошла просто отлично, все понравило...</td>\n",
       "    </tr>\n",
       "    <tr>\n",
       "      <th>1</th>\n",
       "      <td>3</td>\n",
       "      <td>1341</td>\n",
       "      <td>1040</td>\n",
       "      <td>5.0</td>\n",
       "      <td>У вас очень удобный и полезный сервис! Был при...</td>\n",
       "    </tr>\n",
       "    <tr>\n",
       "      <th>2</th>\n",
       "      <td>4</td>\n",
       "      <td>1341</td>\n",
       "      <td>689</td>\n",
       "      <td>5.0</td>\n",
       "      <td>Хотела оставить слова благодарности Александру...</td>\n",
       "    </tr>\n",
       "    <tr>\n",
       "      <th>3</th>\n",
       "      <td>5</td>\n",
       "      <td>1397</td>\n",
       "      <td>1053</td>\n",
       "      <td>5.0</td>\n",
       "      <td>В качестве отзыва об экскурсиях - все только в...</td>\n",
       "    </tr>\n",
       "    <tr>\n",
       "      <th>4</th>\n",
       "      <td>6</td>\n",
       "      <td>1379</td>\n",
       "      <td>1053</td>\n",
       "      <td>5.0</td>\n",
       "      <td>В качестве отзыва об экскурсиях - все только в...</td>\n",
       "    </tr>\n",
       "  </tbody>\n",
       "</table>\n",
       "</div>"
      ],
      "text/plain": [
       "   id  subject  author  rate  \\\n",
       "0   2     1381    1024   5.0   \n",
       "1   3     1341    1040   5.0   \n",
       "2   4     1341     689   5.0   \n",
       "3   5     1397    1053   5.0   \n",
       "4   6     1379    1053   5.0   \n",
       "\n",
       "                                                text  \n",
       "0  Экскурсия прошла просто отлично, все понравило...  \n",
       "1  У вас очень удобный и полезный сервис! Был при...  \n",
       "2  Хотела оставить слова благодарности Александру...  \n",
       "3  В качестве отзыва об экскурсиях - все только в...  \n",
       "4  В качестве отзыва об экскурсиях - все только в...  "
      ]
     },
     "execution_count": 4,
     "metadata": {},
     "output_type": "execute_result"
    }
   ],
   "source": [
    "reviews = load_reviews()\n",
    "print('{} items loaded'.format(len(reviews)))\n",
    "reviews.head()"
   ]
  },
  {
   "cell_type": "markdown",
   "metadata": {},
   "source": [
    "### Strip"
   ]
  },
  {
   "cell_type": "code",
   "execution_count": 5,
   "metadata": {},
   "outputs": [
    {
     "data": {
      "text/plain": [
       "True"
      ]
     },
     "execution_count": 5,
     "metadata": {},
     "output_type": "execute_result"
    }
   ],
   "source": [
    "any(reviews.text != reviews.text.str.strip())"
   ]
  },
  {
   "cell_type": "code",
   "execution_count": 6,
   "metadata": {},
   "outputs": [
    {
     "data": {
      "text/plain": [
       "2733"
      ]
     },
     "execution_count": 6,
     "metadata": {},
     "output_type": "execute_result"
    }
   ],
   "source": [
    "len(reviews.loc[reviews.text != reviews.text.str.strip()])"
   ]
  },
  {
   "cell_type": "code",
   "execution_count": 7,
   "metadata": {},
   "outputs": [],
   "source": [
    "reviews['text'] = reviews.text.str.strip()"
   ]
  },
  {
   "cell_type": "markdown",
   "metadata": {},
   "source": [
    "### Дубликаты"
   ]
  },
  {
   "cell_type": "code",
   "execution_count": 8,
   "metadata": {},
   "outputs": [
    {
     "name": "stdout",
     "output_type": "stream",
     "text": [
      "Total: 33199 (194 duplicates removed)\n"
     ]
    }
   ],
   "source": [
    "count = len(reviews)\n",
    "reviews.drop_duplicates(['text'], keep='last', inplace=True)\n",
    "count_new = len(reviews)\n",
    "print('Total: {} ({} duplicates removed)'.format(count_new, count - count_new))"
   ]
  },
  {
   "cell_type": "code",
   "execution_count": 9,
   "metadata": {},
   "outputs": [
    {
     "data": {
      "text/html": [
       "<div>\n",
       "<style scoped>\n",
       "    .dataframe tbody tr th:only-of-type {\n",
       "        vertical-align: middle;\n",
       "    }\n",
       "\n",
       "    .dataframe tbody tr th {\n",
       "        vertical-align: top;\n",
       "    }\n",
       "\n",
       "    .dataframe thead th {\n",
       "        text-align: right;\n",
       "    }\n",
       "</style>\n",
       "<table border=\"1\" class=\"dataframe\">\n",
       "  <thead>\n",
       "    <tr style=\"text-align: right;\">\n",
       "      <th></th>\n",
       "      <th>id</th>\n",
       "      <th>subject</th>\n",
       "      <th>author</th>\n",
       "      <th>rate</th>\n",
       "      <th>text</th>\n",
       "    </tr>\n",
       "  </thead>\n",
       "  <tbody>\n",
       "    <tr>\n",
       "      <th>0</th>\n",
       "      <td>2</td>\n",
       "      <td>1381</td>\n",
       "      <td>1024</td>\n",
       "      <td>5.0</td>\n",
       "      <td>Экскурсия прошла просто отлично, все понравило...</td>\n",
       "    </tr>\n",
       "    <tr>\n",
       "      <th>1</th>\n",
       "      <td>3</td>\n",
       "      <td>1341</td>\n",
       "      <td>1040</td>\n",
       "      <td>5.0</td>\n",
       "      <td>У вас очень удобный и полезный сервис! Был при...</td>\n",
       "    </tr>\n",
       "    <tr>\n",
       "      <th>2</th>\n",
       "      <td>4</td>\n",
       "      <td>1341</td>\n",
       "      <td>689</td>\n",
       "      <td>5.0</td>\n",
       "      <td>Хотела оставить слова благодарности Александру...</td>\n",
       "    </tr>\n",
       "    <tr>\n",
       "      <th>4</th>\n",
       "      <td>6</td>\n",
       "      <td>1379</td>\n",
       "      <td>1053</td>\n",
       "      <td>5.0</td>\n",
       "      <td>В качестве отзыва об экскурсиях - все только в...</td>\n",
       "    </tr>\n",
       "    <tr>\n",
       "      <th>5</th>\n",
       "      <td>7</td>\n",
       "      <td>1533</td>\n",
       "      <td>640</td>\n",
       "      <td>NaN</td>\n",
       "      <td>Мы заранее договорились об экскурсии с Анной, ...</td>\n",
       "    </tr>\n",
       "  </tbody>\n",
       "</table>\n",
       "</div>"
      ],
      "text/plain": [
       "   id  subject  author  rate  \\\n",
       "0   2     1381    1024   5.0   \n",
       "1   3     1341    1040   5.0   \n",
       "2   4     1341     689   5.0   \n",
       "4   6     1379    1053   5.0   \n",
       "5   7     1533     640   NaN   \n",
       "\n",
       "                                                text  \n",
       "0  Экскурсия прошла просто отлично, все понравило...  \n",
       "1  У вас очень удобный и полезный сервис! Был при...  \n",
       "2  Хотела оставить слова благодарности Александру...  \n",
       "4  В качестве отзыва об экскурсиях - все только в...  \n",
       "5  Мы заранее договорились об экскурсии с Анной, ...  "
      ]
     },
     "execution_count": 9,
     "metadata": {},
     "output_type": "execute_result"
    }
   ],
   "source": [
    "reviews.head()"
   ]
  },
  {
   "cell_type": "markdown",
   "metadata": {},
   "source": [
    "### Короткие бессмысленные тексты"
   ]
  },
  {
   "cell_type": "code",
   "execution_count": 10,
   "metadata": {},
   "outputs": [
    {
     "data": {
      "text/html": [
       "<div>\n",
       "<style scoped>\n",
       "    .dataframe tbody tr th:only-of-type {\n",
       "        vertical-align: middle;\n",
       "    }\n",
       "\n",
       "    .dataframe tbody tr th {\n",
       "        vertical-align: top;\n",
       "    }\n",
       "\n",
       "    .dataframe thead th {\n",
       "        text-align: right;\n",
       "    }\n",
       "</style>\n",
       "<table border=\"1\" class=\"dataframe\">\n",
       "  <thead>\n",
       "    <tr style=\"text-align: right;\">\n",
       "      <th></th>\n",
       "      <th>id</th>\n",
       "      <th>subject</th>\n",
       "      <th>author</th>\n",
       "      <th>rate</th>\n",
       "      <th>text</th>\n",
       "    </tr>\n",
       "  </thead>\n",
       "  <tbody>\n",
       "    <tr>\n",
       "      <th>3813</th>\n",
       "      <td>4172</td>\n",
       "      <td>5594</td>\n",
       "      <td>17727</td>\n",
       "      <td>4.0</td>\n",
       "      <td>гуд</td>\n",
       "    </tr>\n",
       "    <tr>\n",
       "      <th>4885</th>\n",
       "      <td>5329</td>\n",
       "      <td>2233</td>\n",
       "      <td>6635</td>\n",
       "      <td>5.0</td>\n",
       "      <td>Ае!</td>\n",
       "    </tr>\n",
       "    <tr>\n",
       "      <th>5241</th>\n",
       "      <td>5710</td>\n",
       "      <td>4129</td>\n",
       "      <td>13288</td>\n",
       "      <td>5.0</td>\n",
       "      <td>+++</td>\n",
       "    </tr>\n",
       "    <tr>\n",
       "      <th>6456</th>\n",
       "      <td>7002</td>\n",
       "      <td>4245</td>\n",
       "      <td>29265</td>\n",
       "      <td>NaN</td>\n",
       "      <td>:-(</td>\n",
       "    </tr>\n",
       "    <tr>\n",
       "      <th>8068</th>\n",
       "      <td>8706</td>\n",
       "      <td>6250</td>\n",
       "      <td>34972</td>\n",
       "      <td>4.0</td>\n",
       "      <td>!</td>\n",
       "    </tr>\n",
       "    <tr>\n",
       "      <th>10376</th>\n",
       "      <td>11826</td>\n",
       "      <td>7673</td>\n",
       "      <td>42587</td>\n",
       "      <td>3.0</td>\n",
       "      <td>норм</td>\n",
       "    </tr>\n",
       "    <tr>\n",
       "      <th>12959</th>\n",
       "      <td>15920</td>\n",
       "      <td>2944</td>\n",
       "      <td>50106</td>\n",
       "      <td>5.0</td>\n",
       "      <td>:)</td>\n",
       "    </tr>\n",
       "    <tr>\n",
       "      <th>13711</th>\n",
       "      <td>17112</td>\n",
       "      <td>3423</td>\n",
       "      <td>52797</td>\n",
       "      <td>5.0</td>\n",
       "      <td>Всем</td>\n",
       "    </tr>\n",
       "    <tr>\n",
       "      <th>14804</th>\n",
       "      <td>18786</td>\n",
       "      <td>7104</td>\n",
       "      <td>56585</td>\n",
       "      <td>5.0</td>\n",
       "      <td>l</td>\n",
       "    </tr>\n",
       "    <tr>\n",
       "      <th>17719</th>\n",
       "      <td>23121</td>\n",
       "      <td>3410</td>\n",
       "      <td>65506</td>\n",
       "      <td>5.0</td>\n",
       "      <td>5!</td>\n",
       "    </tr>\n",
       "    <tr>\n",
       "      <th>17943</th>\n",
       "      <td>23433</td>\n",
       "      <td>8130</td>\n",
       "      <td>39554</td>\n",
       "      <td>5.0</td>\n",
       "      <td>.</td>\n",
       "    </tr>\n",
       "    <tr>\n",
       "      <th>22044</th>\n",
       "      <td>29518</td>\n",
       "      <td>6233</td>\n",
       "      <td>71324</td>\n",
       "      <td>5.0</td>\n",
       "      <td>Ок</td>\n",
       "    </tr>\n",
       "    <tr>\n",
       "      <th>24249</th>\n",
       "      <td>32752</td>\n",
       "      <td>4651</td>\n",
       "      <td>84882</td>\n",
       "      <td>5.0</td>\n",
       "      <td>-</td>\n",
       "    </tr>\n",
       "    <tr>\n",
       "      <th>24824</th>\n",
       "      <td>33572</td>\n",
       "      <td>10171</td>\n",
       "      <td>89505</td>\n",
       "      <td>5.0</td>\n",
       "      <td>!!!</td>\n",
       "    </tr>\n",
       "    <tr>\n",
       "      <th>27221</th>\n",
       "      <td>37063</td>\n",
       "      <td>3792</td>\n",
       "      <td>82026</td>\n",
       "      <td>5.0</td>\n",
       "      <td>5</td>\n",
       "    </tr>\n",
       "    <tr>\n",
       "      <th>33322</th>\n",
       "      <td>45908</td>\n",
       "      <td>7280</td>\n",
       "      <td>108036</td>\n",
       "      <td>5.0</td>\n",
       "      <td>Дз</td>\n",
       "    </tr>\n",
       "  </tbody>\n",
       "</table>\n",
       "</div>"
      ],
      "text/plain": [
       "          id  subject  author  rate  text\n",
       "3813    4172     5594   17727   4.0   гуд\n",
       "4885    5329     2233    6635   5.0   Ае!\n",
       "5241    5710     4129   13288   5.0   +++\n",
       "6456    7002     4245   29265   NaN   :-(\n",
       "8068    8706     6250   34972   4.0     !\n",
       "10376  11826     7673   42587   3.0  норм\n",
       "12959  15920     2944   50106   5.0    :)\n",
       "13711  17112     3423   52797   5.0  Всем\n",
       "14804  18786     7104   56585   5.0     l\n",
       "17719  23121     3410   65506   5.0    5!\n",
       "17943  23433     8130   39554   5.0     .\n",
       "22044  29518     6233   71324   5.0    Ок\n",
       "24249  32752     4651   84882   5.0     -\n",
       "24824  33572    10171   89505   5.0   !!!\n",
       "27221  37063     3792   82026   5.0     5\n",
       "33322  45908     7280  108036   5.0    Дз"
      ]
     },
     "execution_count": 10,
     "metadata": {},
     "output_type": "execute_result"
    }
   ],
   "source": [
    "reviews.loc[reviews.text.str.len() < 5]"
   ]
  },
  {
   "cell_type": "code",
   "execution_count": 11,
   "metadata": {},
   "outputs": [
    {
     "data": {
      "text/html": [
       "<div>\n",
       "<style scoped>\n",
       "    .dataframe tbody tr th:only-of-type {\n",
       "        vertical-align: middle;\n",
       "    }\n",
       "\n",
       "    .dataframe tbody tr th {\n",
       "        vertical-align: top;\n",
       "    }\n",
       "\n",
       "    .dataframe thead th {\n",
       "        text-align: right;\n",
       "    }\n",
       "</style>\n",
       "<table border=\"1\" class=\"dataframe\">\n",
       "  <thead>\n",
       "    <tr style=\"text-align: right;\">\n",
       "      <th></th>\n",
       "      <th>id</th>\n",
       "      <th>subject</th>\n",
       "      <th>author</th>\n",
       "      <th>rate</th>\n",
       "      <th>text</th>\n",
       "    </tr>\n",
       "  </thead>\n",
       "  <tbody>\n",
       "    <tr>\n",
       "      <th>3499</th>\n",
       "      <td>3837</td>\n",
       "      <td>5567</td>\n",
       "      <td>17518</td>\n",
       "      <td>4.0</td>\n",
       "      <td>скучно!!</td>\n",
       "    </tr>\n",
       "    <tr>\n",
       "      <th>3657</th>\n",
       "      <td>4004</td>\n",
       "      <td>5566</td>\n",
       "      <td>17868</td>\n",
       "      <td>5.0</td>\n",
       "      <td>Круто!</td>\n",
       "    </tr>\n",
       "    <tr>\n",
       "      <th>3721</th>\n",
       "      <td>4071</td>\n",
       "      <td>5594</td>\n",
       "      <td>17868</td>\n",
       "      <td>5.0</td>\n",
       "      <td>круто!</td>\n",
       "    </tr>\n",
       "    <tr>\n",
       "      <th>3813</th>\n",
       "      <td>4172</td>\n",
       "      <td>5594</td>\n",
       "      <td>17727</td>\n",
       "      <td>4.0</td>\n",
       "      <td>гуд</td>\n",
       "    </tr>\n",
       "    <tr>\n",
       "      <th>4007</th>\n",
       "      <td>4375</td>\n",
       "      <td>5566</td>\n",
       "      <td>18634</td>\n",
       "      <td>5.0</td>\n",
       "      <td>10/10.</td>\n",
       "    </tr>\n",
       "    <tr>\n",
       "      <th>4885</th>\n",
       "      <td>5329</td>\n",
       "      <td>2233</td>\n",
       "      <td>6635</td>\n",
       "      <td>5.0</td>\n",
       "      <td>Ае!</td>\n",
       "    </tr>\n",
       "    <tr>\n",
       "      <th>5241</th>\n",
       "      <td>5710</td>\n",
       "      <td>4129</td>\n",
       "      <td>13288</td>\n",
       "      <td>5.0</td>\n",
       "      <td>+++</td>\n",
       "    </tr>\n",
       "    <tr>\n",
       "      <th>6400</th>\n",
       "      <td>6939</td>\n",
       "      <td>5565</td>\n",
       "      <td>27684</td>\n",
       "      <td>5.0</td>\n",
       "      <td>super</td>\n",
       "    </tr>\n",
       "    <tr>\n",
       "      <th>6456</th>\n",
       "      <td>7002</td>\n",
       "      <td>4245</td>\n",
       "      <td>29265</td>\n",
       "      <td>NaN</td>\n",
       "      <td>:-(</td>\n",
       "    </tr>\n",
       "    <tr>\n",
       "      <th>6698</th>\n",
       "      <td>7252</td>\n",
       "      <td>2351</td>\n",
       "      <td>26261</td>\n",
       "      <td>5.0</td>\n",
       "      <td>Блестяще!</td>\n",
       "    </tr>\n",
       "  </tbody>\n",
       "</table>\n",
       "</div>"
      ],
      "text/plain": [
       "        id  subject  author  rate       text\n",
       "3499  3837     5567   17518   4.0   скучно!!\n",
       "3657  4004     5566   17868   5.0     Круто!\n",
       "3721  4071     5594   17868   5.0     круто!\n",
       "3813  4172     5594   17727   4.0        гуд\n",
       "4007  4375     5566   18634   5.0     10/10.\n",
       "4885  5329     2233    6635   5.0        Ае!\n",
       "5241  5710     4129   13288   5.0        +++\n",
       "6400  6939     5565   27684   5.0      super\n",
       "6456  7002     4245   29265   NaN        :-(\n",
       "6698  7252     2351   26261   5.0  Блестяще!"
      ]
     },
     "execution_count": 11,
     "metadata": {},
     "output_type": "execute_result"
    }
   ],
   "source": [
    "reviews.loc[reviews.text.str.len() < 10].head(10)"
   ]
  },
  {
   "cell_type": "code",
   "execution_count": 12,
   "metadata": {},
   "outputs": [
    {
     "data": {
      "text/html": [
       "<div>\n",
       "<style scoped>\n",
       "    .dataframe tbody tr th:only-of-type {\n",
       "        vertical-align: middle;\n",
       "    }\n",
       "\n",
       "    .dataframe tbody tr th {\n",
       "        vertical-align: top;\n",
       "    }\n",
       "\n",
       "    .dataframe thead th {\n",
       "        text-align: right;\n",
       "    }\n",
       "</style>\n",
       "<table border=\"1\" class=\"dataframe\">\n",
       "  <thead>\n",
       "    <tr style=\"text-align: right;\">\n",
       "      <th></th>\n",
       "      <th>id</th>\n",
       "      <th>subject</th>\n",
       "      <th>author</th>\n",
       "      <th>rate</th>\n",
       "      <th>text</th>\n",
       "    </tr>\n",
       "  </thead>\n",
       "  <tbody>\n",
       "    <tr>\n",
       "      <th>1892</th>\n",
       "      <td>2093</td>\n",
       "      <td>4588</td>\n",
       "      <td>10696</td>\n",
       "      <td>5.0</td>\n",
       "      <td>Очень интересно</td>\n",
       "    </tr>\n",
       "    <tr>\n",
       "      <th>3056</th>\n",
       "      <td>3366</td>\n",
       "      <td>5365</td>\n",
       "      <td>6779</td>\n",
       "      <td>5.0</td>\n",
       "      <td>выше всяких похвал!</td>\n",
       "    </tr>\n",
       "    <tr>\n",
       "      <th>3470</th>\n",
       "      <td>3808</td>\n",
       "      <td>5564</td>\n",
       "      <td>17727</td>\n",
       "      <td>5.0</td>\n",
       "      <td>Очень хорошо!</td>\n",
       "    </tr>\n",
       "    <tr>\n",
       "      <th>3606</th>\n",
       "      <td>3949</td>\n",
       "      <td>5562</td>\n",
       "      <td>18580</td>\n",
       "      <td>5.0</td>\n",
       "      <td>Интересно,спасибо!</td>\n",
       "    </tr>\n",
       "    <tr>\n",
       "      <th>3902</th>\n",
       "      <td>4265</td>\n",
       "      <td>4283</td>\n",
       "      <td>18061</td>\n",
       "      <td>5.0</td>\n",
       "      <td>Экскурсия супер.</td>\n",
       "    </tr>\n",
       "    <tr>\n",
       "      <th>4150</th>\n",
       "      <td>4528</td>\n",
       "      <td>3193</td>\n",
       "      <td>21180</td>\n",
       "      <td>5.0</td>\n",
       "      <td>Очень интересно!</td>\n",
       "    </tr>\n",
       "    <tr>\n",
       "      <th>4373</th>\n",
       "      <td>4768</td>\n",
       "      <td>2877</td>\n",
       "      <td>21608</td>\n",
       "      <td>4.0</td>\n",
       "      <td>Очень содержательно</td>\n",
       "    </tr>\n",
       "    <tr>\n",
       "      <th>4810</th>\n",
       "      <td>5237</td>\n",
       "      <td>3571</td>\n",
       "      <td>22414</td>\n",
       "      <td>5.0</td>\n",
       "      <td>Понравилось!</td>\n",
       "    </tr>\n",
       "    <tr>\n",
       "      <th>5197</th>\n",
       "      <td>5665</td>\n",
       "      <td>2233</td>\n",
       "      <td>3392</td>\n",
       "      <td>5.0</td>\n",
       "      <td>Всё отлично</td>\n",
       "    </tr>\n",
       "    <tr>\n",
       "      <th>5698</th>\n",
       "      <td>6190</td>\n",
       "      <td>6846</td>\n",
       "      <td>16650</td>\n",
       "      <td>5.0</td>\n",
       "      <td>Браво, Ляля!</td>\n",
       "    </tr>\n",
       "  </tbody>\n",
       "</table>\n",
       "</div>"
      ],
      "text/plain": [
       "        id  subject  author  rate                 text\n",
       "1892  2093     4588   10696   5.0      Очень интересно\n",
       "3056  3366     5365    6779   5.0  выше всяких похвал!\n",
       "3470  3808     5564   17727   5.0        Очень хорошо!\n",
       "3606  3949     5562   18580   5.0   Интересно,спасибо!\n",
       "3902  4265     4283   18061   5.0     Экскурсия супер.\n",
       "4150  4528     3193   21180   5.0     Очень интересно!\n",
       "4373  4768     2877   21608   4.0  Очень содержательно\n",
       "4810  5237     3571   22414   5.0         Понравилось!\n",
       "5197  5665     2233    3392   5.0          Всё отлично\n",
       "5698  6190     6846   16650   5.0         Браво, Ляля!"
      ]
     },
     "execution_count": 12,
     "metadata": {},
     "output_type": "execute_result"
    }
   ],
   "source": [
    "reviews.loc[(reviews.text.str.len() < 20)  & (reviews.text.str.len() > 10)].head(10)"
   ]
  },
  {
   "cell_type": "code",
   "execution_count": 13,
   "metadata": {},
   "outputs": [
    {
     "data": {
      "text/plain": [
       "226"
      ]
     },
     "execution_count": 13,
     "metadata": {},
     "output_type": "execute_result"
    }
   ],
   "source": [
    "len(reviews.loc[reviews.text.str.len() < 20])"
   ]
  },
  {
   "cell_type": "code",
   "execution_count": 14,
   "metadata": {},
   "outputs": [
    {
     "name": "stdout",
     "output_type": "stream",
     "text": [
      "Total: 32973 (226 short reviews removed)\n"
     ]
    }
   ],
   "source": [
    "count = len(reviews)\n",
    "reviews = reviews.loc[reviews.text.str.len() >= 20]\n",
    "count_new = len(reviews)\n",
    "print('Total: {} ({} short reviews removed)'.format(count_new, count - count_new))"
   ]
  },
  {
   "cell_type": "markdown",
   "metadata": {},
   "source": [
    "### Собираем вместе всю предобработку"
   ]
  },
  {
   "cell_type": "code",
   "execution_count": 36,
   "metadata": {},
   "outputs": [],
   "source": [
    "def remove_duplicates(reviews):\n",
    "    print('Removing duplicates...')\n",
    "    count = len(reviews)\n",
    "    reviews = reviews.drop_duplicates(['text'], keep='last')\n",
    "    print('{} duplicates removed'.format(count - len(reviews)))\n",
    "    return reviews\n",
    "\n",
    "def remove_short(reviews, min_length=20):\n",
    "    print('Removing too short reviews (< {} chars)...'.format(min_length))\n",
    "    count = len(reviews)\n",
    "    reviews = reviews.loc[reviews.text.str.len() >= min_length]\n",
    "    print('{} short reviews removed'.format(count - len(reviews)))\n",
    "    return reviews\n",
    "\n",
    "def get_prepared_reviews():\n",
    "    reviews = load_reviews()\n",
    "    reviews['text'] = reviews.text.str.strip()\n",
    "    print('{} items loaded\\n'.format(len(reviews)))\n",
    "    \n",
    "    reviews = remove_duplicates(reviews)\n",
    "    print()\n",
    "    reviews = remove_short(reviews, 20)\n",
    "    \n",
    "    print('\\nCalculating review text lengths...')\n",
    "    reviews['text_len'] = reviews.text.str.len()\n",
    "    \n",
    "    print('\\nTotal: {}'.format(len(reviews)))\n",
    "    return reviews"
   ]
  },
  {
   "cell_type": "code",
   "execution_count": 37,
   "metadata": {},
   "outputs": [
    {
     "name": "stdout",
     "output_type": "stream",
     "text": [
      "Loading reviews...\n",
      "33393 items loaded\n",
      "\n",
      "Removing duplicates...\n",
      "194 duplicates removed\n",
      "\n",
      "Removing too short reviews (< 20 chars)...\n",
      "226 short reviews removed\n",
      "\n",
      "Calculating review text lengths...\n",
      "\n",
      "Total: 32973\n"
     ]
    },
    {
     "data": {
      "text/html": [
       "<div>\n",
       "<style scoped>\n",
       "    .dataframe tbody tr th:only-of-type {\n",
       "        vertical-align: middle;\n",
       "    }\n",
       "\n",
       "    .dataframe tbody tr th {\n",
       "        vertical-align: top;\n",
       "    }\n",
       "\n",
       "    .dataframe thead th {\n",
       "        text-align: right;\n",
       "    }\n",
       "</style>\n",
       "<table border=\"1\" class=\"dataframe\">\n",
       "  <thead>\n",
       "    <tr style=\"text-align: right;\">\n",
       "      <th></th>\n",
       "      <th>id</th>\n",
       "      <th>subject</th>\n",
       "      <th>author</th>\n",
       "      <th>rate</th>\n",
       "      <th>text</th>\n",
       "      <th>text_len</th>\n",
       "    </tr>\n",
       "  </thead>\n",
       "  <tbody>\n",
       "    <tr>\n",
       "      <th>0</th>\n",
       "      <td>2</td>\n",
       "      <td>1381</td>\n",
       "      <td>1024</td>\n",
       "      <td>5.0</td>\n",
       "      <td>Экскурсия прошла просто отлично, все понравило...</td>\n",
       "      <td>133</td>\n",
       "    </tr>\n",
       "    <tr>\n",
       "      <th>1</th>\n",
       "      <td>3</td>\n",
       "      <td>1341</td>\n",
       "      <td>1040</td>\n",
       "      <td>5.0</td>\n",
       "      <td>У вас очень удобный и полезный сервис! Был при...</td>\n",
       "      <td>594</td>\n",
       "    </tr>\n",
       "    <tr>\n",
       "      <th>2</th>\n",
       "      <td>4</td>\n",
       "      <td>1341</td>\n",
       "      <td>689</td>\n",
       "      <td>5.0</td>\n",
       "      <td>Хотела оставить слова благодарности Александру...</td>\n",
       "      <td>811</td>\n",
       "    </tr>\n",
       "    <tr>\n",
       "      <th>4</th>\n",
       "      <td>6</td>\n",
       "      <td>1379</td>\n",
       "      <td>1053</td>\n",
       "      <td>5.0</td>\n",
       "      <td>В качестве отзыва об экскурсиях - все только в...</td>\n",
       "      <td>825</td>\n",
       "    </tr>\n",
       "    <tr>\n",
       "      <th>5</th>\n",
       "      <td>7</td>\n",
       "      <td>1533</td>\n",
       "      <td>640</td>\n",
       "      <td>NaN</td>\n",
       "      <td>Мы заранее договорились об экскурсии с Анной, ...</td>\n",
       "      <td>1126</td>\n",
       "    </tr>\n",
       "  </tbody>\n",
       "</table>\n",
       "</div>"
      ],
      "text/plain": [
       "   id  subject  author  rate  \\\n",
       "0   2     1381    1024   5.0   \n",
       "1   3     1341    1040   5.0   \n",
       "2   4     1341     689   5.0   \n",
       "4   6     1379    1053   5.0   \n",
       "5   7     1533     640   NaN   \n",
       "\n",
       "                                                text  text_len  \n",
       "0  Экскурсия прошла просто отлично, все понравило...       133  \n",
       "1  У вас очень удобный и полезный сервис! Был при...       594  \n",
       "2  Хотела оставить слова благодарности Александру...       811  \n",
       "4  В качестве отзыва об экскурсиях - все только в...       825  \n",
       "5  Мы заранее договорились об экскурсии с Анной, ...      1126  "
      ]
     },
     "execution_count": 37,
     "metadata": {},
     "output_type": "execute_result"
    }
   ],
   "source": [
    "reviews = get_prepared_reviews()\n",
    "reviews.head()"
   ]
  },
  {
   "cell_type": "markdown",
   "metadata": {},
   "source": [
    "## Исследуем данные"
   ]
  },
  {
   "cell_type": "markdown",
   "metadata": {},
   "source": [
    "### Сколько авторов?"
   ]
  },
  {
   "cell_type": "code",
   "execution_count": 21,
   "metadata": {},
   "outputs": [
    {
     "name": "stdout",
     "output_type": "stream",
     "text": [
      "23113\n"
     ]
    }
   ],
   "source": [
    "print(len(reviews.author.unique()))"
   ]
  },
  {
   "cell_type": "markdown",
   "metadata": {},
   "source": [
    "### Сколько экскурсий?"
   ]
  },
  {
   "cell_type": "code",
   "execution_count": 22,
   "metadata": {},
   "outputs": [
    {
     "name": "stdout",
     "output_type": "stream",
     "text": [
      "2763\n"
     ]
    }
   ],
   "source": [
    "print(len(reviews.subject.unique()))"
   ]
  },
  {
   "cell_type": "markdown",
   "metadata": {},
   "source": [
    "### Сколько отзывов на одну экскурсию?"
   ]
  },
  {
   "cell_type": "code",
   "execution_count": 23,
   "metadata": {},
   "outputs": [],
   "source": [
    "count_per_subj = reviews.groupby('subject').count().id.ravel()"
   ]
  },
  {
   "cell_type": "code",
   "execution_count": 24,
   "metadata": {},
   "outputs": [
    {
     "name": "stdout",
     "output_type": "stream",
     "text": [
      "Range: 1-323\n",
      "Mean: 12 ±22\n",
      "Median: 4\n"
     ]
    }
   ],
   "source": [
    "print(\"Range: {}-{}\".format(count_per_subj.min(), count_per_subj.max()))\n",
    "print(\"Mean: {:.0f} ±{:.0f}\".format(count_per_subj.mean(), count_per_subj.std()))\n",
    "print(\"Median: {:.0f}\".format(np.median(count_per_subj)))"
   ]
  },
  {
   "cell_type": "code",
   "execution_count": 57,
   "metadata": {},
   "outputs": [
    {
     "data": {
      "text/plain": [
       "763"
      ]
     },
     "execution_count": 57,
     "metadata": {},
     "output_type": "execute_result"
    }
   ],
   "source": [
    "len(reviews.loc[count_per_subj > 10])"
   ]
  },
  {
   "cell_type": "markdown",
   "metadata": {},
   "source": [
    "### Длины отзывов"
   ]
  },
  {
   "cell_type": "code",
   "execution_count": 25,
   "metadata": {},
   "outputs": [
    {
     "name": "stdout",
     "output_type": "stream",
     "text": [
      "Range: 20-6755\n",
      "Mean: 376 ±337\n",
      "Median: 294\n"
     ]
    }
   ],
   "source": [
    "lengths = reviews.text_len\n",
    "print(\"Range: {}-{}\".format(lengths.min(), lengths.max()))\n",
    "print(\"Mean: {:.0f} ±{:.0f}\".format(lengths.mean(), lengths.std()))\n",
    "print(\"Median: {:.0f}\".format(lengths.median()))"
   ]
  },
  {
   "cell_type": "code",
   "execution_count": 26,
   "metadata": {},
   "outputs": [
    {
     "data": {
      "image/png": "[encoded data removed]",
      "text/plain": [
       "<matplotlib.figure.Figure at 0x109411208>"
      ]
     },
     "metadata": {
      "image/png": {
       "height": 250,
       "width": 382
      }
     },
     "output_type": "display_data"
    }
   ],
   "source": [
    "plt.hist(lengths, log=True);"
   ]
  },
  {
   "cell_type": "code",
   "execution_count": 27,
   "metadata": {},
   "outputs": [
    {
     "data": {
      "image/png": "[encoded data removed]",
      "text/plain": [
       "<matplotlib.figure.Figure at 0x10b488438>"
      ]
     },
     "metadata": {
      "image/png": {
       "height": 250,
       "width": 383
      }
     },
     "output_type": "display_data"
    }
   ],
   "source": [
    "plt.hist(np.log(lengths), bins=20);"
   ]
  },
  {
   "cell_type": "code",
   "execution_count": 28,
   "metadata": {},
   "outputs": [
    {
     "data": {
      "text/plain": [
       "(148.4131591025766, 544.571910125929)"
      ]
     },
     "execution_count": 28,
     "metadata": {},
     "output_type": "execute_result"
    }
   ],
   "source": [
    "np.exp(5), np.exp(6.3)"
   ]
  },
  {
   "cell_type": "markdown",
   "metadata": {},
   "source": [
    "### Очень длинные отзывы"
   ]
  },
  {
   "cell_type": "code",
   "execution_count": 29,
   "metadata": {},
   "outputs": [
    {
     "data": {
      "text/plain": [
       "14"
      ]
     },
     "execution_count": 29,
     "metadata": {},
     "output_type": "execute_result"
    }
   ],
   "source": [
    "len(reviews.loc[lengths > 4000])"
   ]
  },
  {
   "cell_type": "code",
   "execution_count": 30,
   "metadata": {},
   "outputs": [
    {
     "data": {
      "text/plain": [
       "4"
      ]
     },
     "execution_count": 30,
     "metadata": {},
     "output_type": "execute_result"
    }
   ],
   "source": [
    "len(reviews.loc[lengths > 5000])"
   ]
  },
  {
   "cell_type": "code",
   "execution_count": 31,
   "metadata": {},
   "outputs": [
    {
     "name": "stdout",
     "output_type": "stream",
     "text": [
      "--------------------------------------------------\n",
      "Для тех, кто поленится прочитать мой отзыв до конца, напишу коротко - нам очень понравилось. Рекомендуем )))\r\n",
      "Аня, спасибо огромное! экскурсия была супер. только маловато )))) рекомендации - в конце поста )))\r\n",
      "А теперь подробно...\r\n",
      "Это была наша первая поездка в Рим и в Италию вообще. Поскольку мы с мужем собирались провести в этом городе неделю (терпеть не могу бегать \"галопом по Европам\"), перед...\n",
      "--------------------------------------------------\n",
      "Отдыхать в Болгарию мы приехали во второй раз и, что называется, были во всеоружии относительно того, что хотим посмотреть. Мы составили маршруты с описанием достопримечательностей и интересных мест, путеводители были наготове, заметки под рукой. Планировали арендовать авто и везде ездить самостоятельно. И все же, учитывая утомительность такого отдыха, приняли решение воспользоваться услугами гида...\n",
      "--------------------------------------------------\n",
      "30 декабря 2017 г.\r\n",
      "Экскурсия: Весь Берлин: с Запада на Восток и обратно\r\n",
      "Увидеть все главное и узнать о городе намного больше, чем пишут в путеводителях\r\n",
      "\r\n",
      "Откуда взялись 69 восторженных отзывов об экскурсоводе и об экскурсии мне, если честно, не понятно. Но начну с начала: гид назначил встречу в 15.00 у входа в Ратушу\r\n",
      "\r\n",
      "Предварительно Олег написал комментарий к заказу «Весь Берлин: с Запада на ...\n",
      "--------------------------------------------------\n",
      "Хочу поделиться своими впечатлениями от экскурсии с гидом по Стамбулу Ксенией. Положившись на большое количество положительной обратной связи об экскурсиях данного гида, в феврале 2018 заказала индивидуальный тур. Поскольку путешественник я с большим стажем, десятками посещенных городов (в том числе в Стамбуле не впервые), мне есть с чем сравнивать.Все мои спутники и я сошлись в одном мнении, что ...\n"
     ]
    }
   ],
   "source": [
    "for review in reviews.loc[lengths > 5000].text:\n",
    "    print('-' * 50)\n",
    "    print(review[:400] + '...')"
   ]
  },
  {
   "cell_type": "markdown",
   "metadata": {},
   "source": [
    "### Оценки"
   ]
  },
  {
   "cell_type": "code",
   "execution_count": 46,
   "metadata": {},
   "outputs": [
    {
     "name": "stdout",
     "output_type": "stream",
     "text": [
      "Reviews without rating: 281\n"
     ]
    }
   ],
   "source": [
    "print(\"Reviews without rating: {}\".format(len(reviews.loc[reviews.rate.isna()])))"
   ]
  },
  {
   "cell_type": "code",
   "execution_count": 51,
   "metadata": {},
   "outputs": [
    {
     "name": "stdout",
     "output_type": "stream",
     "text": [
      "★★★★★\t29845\n",
      "★★★★\t1992\n",
      "★★★\t441\n",
      "★★\t179\n",
      "★\t235\n"
     ]
    }
   ],
   "source": [
    "from collections import Counter\n",
    "counts = Counter(reviews.rate)\n",
    "for rate in [5, 4, 3, 2, 1]:\n",
    "    print('{}\\t{}'.format('★' * rate, counts[rate]))"
   ]
  },
  {
   "cell_type": "code",
   "execution_count": 52,
   "metadata": {},
   "outputs": [
    {
     "data": {
      "image/png": "[encoded data removed]",
      "text/plain": [
       "<matplotlib.figure.Figure at 0x1104f3940>"
      ]
     },
     "metadata": {
      "image/png": {
       "height": 250,
       "width": 375
      }
     },
     "output_type": "display_data"
    }
   ],
   "source": [
    "reviews.rate.hist(log=True);"
   ]
  },
  {
   "cell_type": "markdown",
   "metadata": {},
   "source": [
    "## Сохраняем обработанные данные"
   ]
  },
  {
   "cell_type": "code",
   "execution_count": 38,
   "metadata": {},
   "outputs": [],
   "source": [
    "reviews.to_csv(data_path('reviews_filtered.csv'), index=False)"
   ]
  },
  {
   "cell_type": "code",
   "execution_count": 39,
   "metadata": {},
   "outputs": [],
   "source": [
    "reviews = pd.read_csv(data_path('reviews_filtered.csv'))"
   ]
  },
  {
   "cell_type": "code",
   "execution_count": 40,
   "metadata": {},
   "outputs": [
    {
     "data": {
      "text/html": [
       "<div>\n",
       "<style scoped>\n",
       "    .dataframe tbody tr th:only-of-type {\n",
       "        vertical-align: middle;\n",
       "    }\n",
       "\n",
       "    .dataframe tbody tr th {\n",
       "        vertical-align: top;\n",
       "    }\n",
       "\n",
       "    .dataframe thead th {\n",
       "        text-align: right;\n",
       "    }\n",
       "</style>\n",
       "<table border=\"1\" class=\"dataframe\">\n",
       "  <thead>\n",
       "    <tr style=\"text-align: right;\">\n",
       "      <th></th>\n",
       "      <th>id</th>\n",
       "      <th>subject</th>\n",
       "      <th>author</th>\n",
       "      <th>rate</th>\n",
       "      <th>text</th>\n",
       "      <th>text_len</th>\n",
       "    </tr>\n",
       "  </thead>\n",
       "  <tbody>\n",
       "    <tr>\n",
       "      <th>0</th>\n",
       "      <td>2</td>\n",
       "      <td>1381</td>\n",
       "      <td>1024</td>\n",
       "      <td>5.0</td>\n",
       "      <td>Экскурсия прошла просто отлично, все понравило...</td>\n",
       "      <td>133</td>\n",
       "    </tr>\n",
       "    <tr>\n",
       "      <th>1</th>\n",
       "      <td>3</td>\n",
       "      <td>1341</td>\n",
       "      <td>1040</td>\n",
       "      <td>5.0</td>\n",
       "      <td>У вас очень удобный и полезный сервис! Был при...</td>\n",
       "      <td>594</td>\n",
       "    </tr>\n",
       "    <tr>\n",
       "      <th>2</th>\n",
       "      <td>4</td>\n",
       "      <td>1341</td>\n",
       "      <td>689</td>\n",
       "      <td>5.0</td>\n",
       "      <td>Хотела оставить слова благодарности Александру...</td>\n",
       "      <td>811</td>\n",
       "    </tr>\n",
       "    <tr>\n",
       "      <th>3</th>\n",
       "      <td>6</td>\n",
       "      <td>1379</td>\n",
       "      <td>1053</td>\n",
       "      <td>5.0</td>\n",
       "      <td>В качестве отзыва об экскурсиях - все только в...</td>\n",
       "      <td>825</td>\n",
       "    </tr>\n",
       "    <tr>\n",
       "      <th>4</th>\n",
       "      <td>7</td>\n",
       "      <td>1533</td>\n",
       "      <td>640</td>\n",
       "      <td>NaN</td>\n",
       "      <td>Мы заранее договорились об экскурсии с Анной, ...</td>\n",
       "      <td>1126</td>\n",
       "    </tr>\n",
       "  </tbody>\n",
       "</table>\n",
       "</div>"
      ],
      "text/plain": [
       "   id  subject  author  rate  \\\n",
       "0   2     1381    1024   5.0   \n",
       "1   3     1341    1040   5.0   \n",
       "2   4     1341     689   5.0   \n",
       "3   6     1379    1053   5.0   \n",
       "4   7     1533     640   NaN   \n",
       "\n",
       "                                                text  text_len  \n",
       "0  Экскурсия прошла просто отлично, все понравило...       133  \n",
       "1  У вас очень удобный и полезный сервис! Был при...       594  \n",
       "2  Хотела оставить слова благодарности Александру...       811  \n",
       "3  В качестве отзыва об экскурсиях - все только в...       825  \n",
       "4  Мы заранее договорились об экскурсии с Анной, ...      1126  "
      ]
     },
     "execution_count": 40,
     "metadata": {},
     "output_type": "execute_result"
    }
   ],
   "source": [
    "reviews.head()"
   ]
  }
 ],
 "metadata": {
  "kernelspec": {
   "display_name": "Python 3",
   "language": "python",
   "name": "python3"
  },
  "language_info": {
   "codemirror_mode": {
    "name": "ipython",
    "version": 3
   },
   "file_extension": ".py",
   "mimetype": "text/x-python",
   "name": "python",
   "nbconvert_exporter": "python",
   "pygments_lexer": "ipython3",
   "version": "3.6.4"
  }
 },
 "nbformat": 4,
 "nbformat_minor": 2
}
