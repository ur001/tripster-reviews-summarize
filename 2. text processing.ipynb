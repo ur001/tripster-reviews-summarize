{
 "cells": [
  {
   "cell_type": "markdown",
   "metadata": {},
   "source": [
    "# Отзывы на экскурсии Tripster.ru — обработка текста"
   ]
  },
  {
   "cell_type": "code",
   "execution_count": 1,
   "metadata": {},
   "outputs": [],
   "source": [
    "import warnings\n",
    "warnings.simplefilter('ignore')\n",
    "\n",
    "import os\n",
    "import re\n",
    "import functools\n",
    "from collections import Counter, defaultdict\n",
    "from operator import itemgetter\n",
    "import pandas as pd\n",
    "import numpy as np\n",
    "import nltk\n",
    "\n",
    "data_dir = \"./data\""
   ]
  },
  {
   "cell_type": "markdown",
   "metadata": {},
   "source": [
    "## Загрузка данных"
   ]
  },
  {
   "cell_type": "code",
   "execution_count": 3,
   "metadata": {},
   "outputs": [],
   "source": [
    "def data_path(relative_path):\n",
    "    return os.path.join(data_dir, relative_path)\n",
    "\n",
    "def load_reviews():\n",
    "    print('Loading reviews...')\n",
    "    reviews = pd.read_csv(data_path('reviews_filtered.csv'))\n",
    "    print('Total: {}'.format(len(reviews)))\n",
    "    return reviews"
   ]
  },
  {
   "cell_type": "code",
   "execution_count": 4,
   "metadata": {},
   "outputs": [
    {
     "name": "stdout",
     "output_type": "stream",
     "text": [
      "Loading reviews...\n",
      "Total: 32973\n"
     ]
    },
    {
     "data": {
      "text/html": [
       "<div>\n",
       "<style scoped>\n",
       "    .dataframe tbody tr th:only-of-type {\n",
       "        vertical-align: middle;\n",
       "    }\n",
       "\n",
       "    .dataframe tbody tr th {\n",
       "        vertical-align: top;\n",
       "    }\n",
       "\n",
       "    .dataframe thead th {\n",
       "        text-align: right;\n",
       "    }\n",
       "</style>\n",
       "<table border=\"1\" class=\"dataframe\">\n",
       "  <thead>\n",
       "    <tr style=\"text-align: right;\">\n",
       "      <th></th>\n",
       "      <th>id</th>\n",
       "      <th>subject</th>\n",
       "      <th>author</th>\n",
       "      <th>rate</th>\n",
       "      <th>text</th>\n",
       "      <th>text_len</th>\n",
       "    </tr>\n",
       "  </thead>\n",
       "  <tbody>\n",
       "    <tr>\n",
       "      <th>0</th>\n",
       "      <td>2</td>\n",
       "      <td>1381</td>\n",
       "      <td>1024</td>\n",
       "      <td>5.0</td>\n",
       "      <td>Экскурсия прошла просто отлично, все понравило...</td>\n",
       "      <td>133</td>\n",
       "    </tr>\n",
       "    <tr>\n",
       "      <th>1</th>\n",
       "      <td>3</td>\n",
       "      <td>1341</td>\n",
       "      <td>1040</td>\n",
       "      <td>5.0</td>\n",
       "      <td>У вас очень удобный и полезный сервис! Был при...</td>\n",
       "      <td>594</td>\n",
       "    </tr>\n",
       "    <tr>\n",
       "      <th>2</th>\n",
       "      <td>4</td>\n",
       "      <td>1341</td>\n",
       "      <td>689</td>\n",
       "      <td>5.0</td>\n",
       "      <td>Хотела оставить слова благодарности Александру...</td>\n",
       "      <td>811</td>\n",
       "    </tr>\n",
       "    <tr>\n",
       "      <th>3</th>\n",
       "      <td>6</td>\n",
       "      <td>1379</td>\n",
       "      <td>1053</td>\n",
       "      <td>5.0</td>\n",
       "      <td>В качестве отзыва об экскурсиях - все только в...</td>\n",
       "      <td>825</td>\n",
       "    </tr>\n",
       "    <tr>\n",
       "      <th>4</th>\n",
       "      <td>7</td>\n",
       "      <td>1533</td>\n",
       "      <td>640</td>\n",
       "      <td>NaN</td>\n",
       "      <td>Мы заранее договорились об экскурсии с Анной, ...</td>\n",
       "      <td>1126</td>\n",
       "    </tr>\n",
       "  </tbody>\n",
       "</table>\n",
       "</div>"
      ],
      "text/plain": [
       "   id  subject  author  rate  \\\n",
       "0   2     1381    1024   5.0   \n",
       "1   3     1341    1040   5.0   \n",
       "2   4     1341     689   5.0   \n",
       "3   6     1379    1053   5.0   \n",
       "4   7     1533     640   NaN   \n",
       "\n",
       "                                                text  text_len  \n",
       "0  Экскурсия прошла просто отлично, все понравило...       133  \n",
       "1  У вас очень удобный и полезный сервис! Был при...       594  \n",
       "2  Хотела оставить слова благодарности Александру...       811  \n",
       "3  В качестве отзыва об экскурсиях - все только в...       825  \n",
       "4  Мы заранее договорились об экскурсии с Анной, ...      1126  "
      ]
     },
     "execution_count": 4,
     "metadata": {},
     "output_type": "execute_result"
    }
   ],
   "source": [
    "reviews = load_reviews()\n",
    "reviews.head()"
   ]
  },
  {
   "cell_type": "markdown",
   "metadata": {},
   "source": [
    "## Анализ и очистка символов"
   ]
  },
  {
   "cell_type": "markdown",
   "metadata": {},
   "source": [
    "### Анализ"
   ]
  },
  {
   "cell_type": "code",
   "execution_count": 5,
   "metadata": {},
   "outputs": [],
   "source": [
    "all_texts = ' '.join(reviews.text).lower()"
   ]
  },
  {
   "cell_type": "code",
   "execution_count": 6,
   "metadata": {},
   "outputs": [
    {
     "name": "stdout",
     "output_type": "stream",
     "text": [
      "Count of unique symbols: 199\n"
     ]
    }
   ],
   "source": [
    "print(\"Count of unique symbols: {}\".format(len(set(all_texts))))"
   ]
  },
  {
   "cell_type": "code",
   "execution_count": 7,
   "metadata": {},
   "outputs": [],
   "source": [
    "chars_counts = Counter(all_texts)"
   ]
  },
  {
   "cell_type": "code",
   "execution_count": 8,
   "metadata": {},
   "outputs": [],
   "source": [
    "char_groups = {\n",
    "    'ru': re.compile(r'[а-яё]'),\n",
    "    'lat': re.compile(r'[a-z]'),\n",
    "    'punctuation': re.compile(r'[\\.,\\!\\?\"«»“”„()\\-–—\\:;\\'…]'),    \n",
    "    'space': re.compile(r'[\\s]'),    \n",
    "    'num': re.compile(r'[\\d]'),    \n",
    "    'url special chars': re.compile(r'[/&=#_+%]'),    \n",
    "}\n",
    "\n",
    "chars_count_grouped = defaultdict(int)\n",
    "for char, count in chars_counts.items():\n",
    "    char_group = char\n",
    "    for group_name, regexp in char_groups.items():\n",
    "        if regexp.match(char):\n",
    "            char_group = group_name\n",
    "            continue\n",
    "    \n",
    "    chars_count_grouped[char_group] += count"
   ]
  },
  {
   "cell_type": "code",
   "execution_count": 9,
   "metadata": {
    "scrolled": false
   },
   "outputs": [
    {
     "name": "stdout",
     "output_type": "stream",
     "text": [
      "ru: 10127389\n",
      "space: 1819319\n",
      "punctuation: 415849\n",
      "lat: 40682\n",
      "num: 24116\n",
      "url special chars: 2733\n",
      "і: 147\n",
      "­: 64\n",
      "י: 31\n",
      "є: 30\n",
      "️: 28\n",
      "*: 27\n",
      "ו: 27\n",
      "№: 25\n",
      "’: 22\n",
      "！: 22\n",
      "ל: 20\n",
      "ї: 17\n",
      "ר: 17\n",
      "•: 16\n",
      "á: 15\n",
      "מ: 14\n",
      ": 13\n",
      "\\: 12\n",
      "נ: 12\n",
      "ה: 12\n",
      "ם: 12\n",
      "ב: 11\n",
      "א: 10\n",
      "​: 9\n",
      "ü: 8\n",
      "~: 8\n",
      "€: 7\n",
      "₽: 7\n",
      "ת: 7\n",
      "[: 6\n",
      "<: 6\n",
      "@: 6\n",
      "‎: 6\n",
      "ד: 6\n",
      "ש: 6\n",
      "ט: 6\n",
      "]: 5\n",
      "é: 5\n",
      "$: 5\n",
      ">: 5\n",
      "°: 5\n",
      "☺: 5\n",
      "|: 5\n",
      "צ: 5\n",
      "ş: 4\n",
      "ö: 4\n",
      "́: 4\n",
      "）: 4\n",
      "ג: 4\n",
      "ח: 4\n",
      "כ: 4\n",
      "^: 3\n",
      "`: 3\n",
      "ç: 3\n",
      "（: 3\n",
      "ä: 3\n",
      "ã: 3\n",
      "ז: 3\n",
      "פ: 3\n",
      "ק: 3\n",
      "ע: 3\n",
      "‌: 3\n",
      "‘: 3\n",
      "œ: 2\n",
      "¬: 2\n",
      "ß: 2\n",
      "ο: 2\n",
      "υ: 2\n",
      "ס: 2\n",
      "â: 1\n",
      "´: 1\n",
      "à: 1\n",
      "κ: 1\n",
      "τ: 1\n",
      "σ: 1\n",
      "π: 1\n",
      "ε: 1\n",
      "ι: 1\n",
      "ά: 1\n",
      ": 1\n",
      "º: 1\n",
      "ñ: 1\n",
      "ך: 1\n",
      "ץ: 1\n",
      "ף: 1\n",
      "，: 1\n",
      "ë: 1\n",
      "あ: 1\n",
      "り: 1\n",
      "が: 1\n",
      "と: 1\n",
      "ご: 1\n",
      "ざ: 1\n",
      "い: 1\n",
      "ま: 1\n",
      "す: 1\n",
      "よ: 1\n",
      "。: 1\n",
      "♡: 1\n"
     ]
    }
   ],
   "source": [
    "for char_group, count in sorted(chars_count_grouped.items(), key=itemgetter(1), reverse=True):\n",
    "    print ('{}: {}'.format(char_group, count))"
   ]
  },
  {
   "cell_type": "markdown",
   "metadata": {},
   "source": [
    "### Очистка"
   ]
  },
  {
   "cell_type": "code",
   "execution_count": 10,
   "metadata": {},
   "outputs": [],
   "source": [
    "RE_WORDS = re.compile(r\"[а-яё\\-a-z]+\", re.UNICODE | re.IGNORECASE)\n",
    "\n",
    "def filter_chars(text, regex=RE_WORDS):\n",
    "    text = text.replace('т.е.', '')\n",
    "    return \" \".join(regex.findall(text)).replace(' - ', ' ')"
   ]
  },
  {
   "cell_type": "code",
   "execution_count": 11,
   "metadata": {},
   "outputs": [],
   "source": [
    "all_texts_words = filter_chars(all_texts)"
   ]
  },
  {
   "cell_type": "code",
   "execution_count": 12,
   "metadata": {},
   "outputs": [
    {
     "data": {
      "text/plain": [
       "'экскурсия прошла просто отлично все понравилось было очень увлекательно и интересно узнали много нового о ватикане и риме в целом у вас очень удобный и полезный сервис был приятно удивлен что за сравнительно небольшие деньги можно получить такой выбор экскурсий которые помогут лучше познакомиться с городами наш гид александр был очень отзывчивым и приветливым молодым человеком он хорошо владел информацией о риме а также с ним было приятно общаться и на другие темы мы получили от него полезные советы где лучше кушать и делать покупки заказав эту услугу вы лучше познакомитесь с городом сэкономите время и деньги и вам будет к кому обратиться за консультацией если что-то окажется не понятно в чужом городе хотела оставить слова благодарности александру за неоценимую помощь во время путешествия в рим в феврале наши римские каникулы в марте года удались мы заранее оговорили наши тематические туры по городу спасибо саше за четкость и быстроту в переписке он действительно настоящий профессионал отлично знающий рим итальянский язык и культуру мы чувствовали что александр старается именно для нас мы ощущали себя не какими-то тысячными туристами где всё делается по шаблону он подарил нам настоящий праздник все было на высоком профессиональном уровне от души рекомендую воспользоваться его услугами с приветом из риги ирина ps александр в риме меня вдохновил поэтому я решила попробовать поводить экскурсии для туристов в своем родном городе риге где я родилась и знаю каждую улочку в качестве отзыва об экскурсиях все только в превосходных степенях в рим я приезжала в третий раз друзья были в первый поэтому экскурсии были необходимы повезло что наткнулась на ваш сайт большое спасибо ребятам леночке http experience tripster ru experience и александру http experience tripster ru experience манера изложения информации конечно разная но мы с друзьями были в восторге от обоих чичероне очень эмоциональная при этом вполне профессиональная подача материала а сколько мест и достопримечательностей они нам показали тех о которых обычно не говорят мы получили столько положительных эмоций теперь всем знакомым советую воспользоваться вашим сайтом если хотят насладиться поездкой так что в качестве отзыва только слова благодарности mille grazie мы заранее договорились об экскурсии с анной хотели познакомиться с городом с обратной стороны пройдя по улочкам куда не ходят все туристические группы несмотря на прохладный и дождливый день эта прогулка нам запомнилась неожиданной встречей со знаменитым автором песенки ах мой милый августин рюмочкой шнапса в ресторанчике griechenbeissl православной церковью которая разделяет помещение с магазиной ковров встречей с туристами которые искали дом гауди имея в виду разумеется дом хунтдертвассера где мы тоже побывали оно того стоило из-за нестандартного взгляда на то как человек должен соседствовать с природой ну и просто кофе с вкуснейшим штруделем в кафе централь на закуску мы увидели прямо под штеффлом на станции метро еще более древние час'"
      ]
     },
     "execution_count": 12,
     "metadata": {},
     "output_type": "execute_result"
    }
   ],
   "source": [
    "all_texts_words[:3000]"
   ]
  },
  {
   "cell_type": "markdown",
   "metadata": {},
   "source": [
    "## Анализ и очистка слов"
   ]
  },
  {
   "cell_type": "markdown",
   "metadata": {},
   "source": [
    "### Считаем слова, ищем стоп-слова"
   ]
  },
  {
   "cell_type": "code",
   "execution_count": 13,
   "metadata": {},
   "outputs": [],
   "source": [
    "from nltk.corpus import stopwords\n",
    "STOPWORDS = set(stopwords.words('russian') + stopwords.words('english'))\n",
    "\n",
    "def filter_stop_words(words, stop_words):\n",
    "    return list(filter(lambda word: word not in stop_words, words))"
   ]
  },
  {
   "cell_type": "code",
   "execution_count": 14,
   "metadata": {},
   "outputs": [],
   "source": [
    "all_words_filtered = filter_stop_words(all_texts_words.split(' '), STOPWORDS)"
   ]
  },
  {
   "cell_type": "code",
   "execution_count": 15,
   "metadata": {},
   "outputs": [],
   "source": [
    "def most_common_words(words, count=30):\n",
    "    word_counts = Counter(words)\n",
    "    return pd.DataFrame(word_counts.most_common(count), columns=['word', 'count'])"
   ]
  },
  {
   "cell_type": "code",
   "execution_count": 16,
   "metadata": {},
   "outputs": [
    {
     "data": {
      "text/html": [
       "<div>\n",
       "<style scoped>\n",
       "    .dataframe tbody tr th:only-of-type {\n",
       "        vertical-align: middle;\n",
       "    }\n",
       "\n",
       "    .dataframe tbody tr th {\n",
       "        vertical-align: top;\n",
       "    }\n",
       "\n",
       "    .dataframe thead th {\n",
       "        text-align: right;\n",
       "    }\n",
       "</style>\n",
       "<table border=\"1\" class=\"dataframe\">\n",
       "  <thead>\n",
       "    <tr style=\"text-align: right;\">\n",
       "      <th></th>\n",
       "      <th>word</th>\n",
       "      <th>count</th>\n",
       "    </tr>\n",
       "  </thead>\n",
       "  <tbody>\n",
       "    <tr>\n",
       "      <th>0</th>\n",
       "      <td>очень</td>\n",
       "      <td>28267</td>\n",
       "    </tr>\n",
       "    <tr>\n",
       "      <th>1</th>\n",
       "      <td>спасибо</td>\n",
       "      <td>19464</td>\n",
       "    </tr>\n",
       "    <tr>\n",
       "      <th>2</th>\n",
       "      <td>экскурсия</td>\n",
       "      <td>16295</td>\n",
       "    </tr>\n",
       "    <tr>\n",
       "      <th>3</th>\n",
       "      <td>экскурсию</td>\n",
       "      <td>11533</td>\n",
       "    </tr>\n",
       "    <tr>\n",
       "      <th>4</th>\n",
       "      <td>экскурсии</td>\n",
       "      <td>10886</td>\n",
       "    </tr>\n",
       "    <tr>\n",
       "      <th>5</th>\n",
       "      <td>это</td>\n",
       "      <td>9428</td>\n",
       "    </tr>\n",
       "    <tr>\n",
       "      <th>6</th>\n",
       "      <td>нам</td>\n",
       "      <td>8921</td>\n",
       "    </tr>\n",
       "    <tr>\n",
       "      <th>7</th>\n",
       "      <td>интересно</td>\n",
       "      <td>6729</td>\n",
       "    </tr>\n",
       "    <tr>\n",
       "      <th>8</th>\n",
       "      <td>всем</td>\n",
       "      <td>6266</td>\n",
       "    </tr>\n",
       "    <tr>\n",
       "      <th>9</th>\n",
       "      <td>время</td>\n",
       "      <td>5947</td>\n",
       "    </tr>\n",
       "    <tr>\n",
       "      <th>10</th>\n",
       "      <td>большое</td>\n",
       "      <td>5545</td>\n",
       "    </tr>\n",
       "    <tr>\n",
       "      <th>11</th>\n",
       "      <td>гид</td>\n",
       "      <td>5539</td>\n",
       "    </tr>\n",
       "    <tr>\n",
       "      <th>12</th>\n",
       "      <td>город</td>\n",
       "      <td>5068</td>\n",
       "    </tr>\n",
       "    <tr>\n",
       "      <th>13</th>\n",
       "      <td>рекомендую</td>\n",
       "      <td>5017</td>\n",
       "    </tr>\n",
       "    <tr>\n",
       "      <th>14</th>\n",
       "      <td>огромное</td>\n",
       "      <td>4846</td>\n",
       "    </tr>\n",
       "    <tr>\n",
       "      <th>15</th>\n",
       "      <td>города</td>\n",
       "      <td>4462</td>\n",
       "    </tr>\n",
       "    <tr>\n",
       "      <th>16</th>\n",
       "      <td>день</td>\n",
       "      <td>4412</td>\n",
       "    </tr>\n",
       "    <tr>\n",
       "      <th>17</th>\n",
       "      <td>человек</td>\n",
       "      <td>4362</td>\n",
       "    </tr>\n",
       "    <tr>\n",
       "      <th>18</th>\n",
       "      <td>истории</td>\n",
       "      <td>4347</td>\n",
       "    </tr>\n",
       "    <tr>\n",
       "      <th>19</th>\n",
       "      <td>просто</td>\n",
       "      <td>4186</td>\n",
       "    </tr>\n",
       "    <tr>\n",
       "      <th>20</th>\n",
       "      <td>понравилось</td>\n",
       "      <td>3547</td>\n",
       "    </tr>\n",
       "    <tr>\n",
       "      <th>21</th>\n",
       "      <td>понравилась</td>\n",
       "      <td>3280</td>\n",
       "    </tr>\n",
       "    <tr>\n",
       "      <th>22</th>\n",
       "      <td>которые</td>\n",
       "      <td>3148</td>\n",
       "    </tr>\n",
       "    <tr>\n",
       "      <th>23</th>\n",
       "      <td>места</td>\n",
       "      <td>2843</td>\n",
       "    </tr>\n",
       "    <tr>\n",
       "      <th>24</th>\n",
       "      <td>часа</td>\n",
       "      <td>2773</td>\n",
       "    </tr>\n",
       "    <tr>\n",
       "      <th>25</th>\n",
       "      <td>маршрут</td>\n",
       "      <td>2665</td>\n",
       "    </tr>\n",
       "    <tr>\n",
       "      <th>26</th>\n",
       "      <td>узнали</td>\n",
       "      <td>2649</td>\n",
       "    </tr>\n",
       "    <tr>\n",
       "      <th>27</th>\n",
       "      <td>городе</td>\n",
       "      <td>2538</td>\n",
       "    </tr>\n",
       "    <tr>\n",
       "      <th>28</th>\n",
       "      <td>рекомендуем</td>\n",
       "      <td>2534</td>\n",
       "    </tr>\n",
       "    <tr>\n",
       "      <th>29</th>\n",
       "      <td>гида</td>\n",
       "      <td>2531</td>\n",
       "    </tr>\n",
       "  </tbody>\n",
       "</table>\n",
       "</div>"
      ],
      "text/plain": [
       "           word  count\n",
       "0         очень  28267\n",
       "1       спасибо  19464\n",
       "2     экскурсия  16295\n",
       "3     экскурсию  11533\n",
       "4     экскурсии  10886\n",
       "5           это   9428\n",
       "6           нам   8921\n",
       "7     интересно   6729\n",
       "8          всем   6266\n",
       "9         время   5947\n",
       "10      большое   5545\n",
       "11          гид   5539\n",
       "12        город   5068\n",
       "13   рекомендую   5017\n",
       "14     огромное   4846\n",
       "15       города   4462\n",
       "16         день   4412\n",
       "17      человек   4362\n",
       "18      истории   4347\n",
       "19       просто   4186\n",
       "20  понравилось   3547\n",
       "21  понравилась   3280\n",
       "22      которые   3148\n",
       "23        места   2843\n",
       "24         часа   2773\n",
       "25      маршрут   2665\n",
       "26       узнали   2649\n",
       "27       городе   2538\n",
       "28  рекомендуем   2534\n",
       "29         гида   2531"
      ]
     },
     "execution_count": 16,
     "metadata": {},
     "output_type": "execute_result"
    }
   ],
   "source": [
    "most_common_words(all_words_filtered, 30)"
   ]
  },
  {
   "cell_type": "code",
   "execution_count": 17,
   "metadata": {},
   "outputs": [
    {
     "data": {
      "text/html": [
       "<div>\n",
       "<style scoped>\n",
       "    .dataframe tbody tr th:only-of-type {\n",
       "        vertical-align: middle;\n",
       "    }\n",
       "\n",
       "    .dataframe tbody tr th {\n",
       "        vertical-align: top;\n",
       "    }\n",
       "\n",
       "    .dataframe thead th {\n",
       "        text-align: right;\n",
       "    }\n",
       "</style>\n",
       "<table border=\"1\" class=\"dataframe\">\n",
       "  <thead>\n",
       "    <tr style=\"text-align: right;\">\n",
       "      <th></th>\n",
       "      <th>word</th>\n",
       "      <th>count</th>\n",
       "    </tr>\n",
       "  </thead>\n",
       "  <tbody>\n",
       "    <tr>\n",
       "      <th>0</th>\n",
       "      <td>спасибо</td>\n",
       "      <td>19464</td>\n",
       "    </tr>\n",
       "    <tr>\n",
       "      <th>1</th>\n",
       "      <td>экскурсия</td>\n",
       "      <td>16295</td>\n",
       "    </tr>\n",
       "    <tr>\n",
       "      <th>2</th>\n",
       "      <td>экскурсию</td>\n",
       "      <td>11533</td>\n",
       "    </tr>\n",
       "    <tr>\n",
       "      <th>3</th>\n",
       "      <td>экскурсии</td>\n",
       "      <td>10886</td>\n",
       "    </tr>\n",
       "    <tr>\n",
       "      <th>4</th>\n",
       "      <td>нам</td>\n",
       "      <td>8921</td>\n",
       "    </tr>\n",
       "    <tr>\n",
       "      <th>5</th>\n",
       "      <td>интересно</td>\n",
       "      <td>6729</td>\n",
       "    </tr>\n",
       "    <tr>\n",
       "      <th>6</th>\n",
       "      <td>всем</td>\n",
       "      <td>6266</td>\n",
       "    </tr>\n",
       "    <tr>\n",
       "      <th>7</th>\n",
       "      <td>время</td>\n",
       "      <td>5947</td>\n",
       "    </tr>\n",
       "    <tr>\n",
       "      <th>8</th>\n",
       "      <td>большое</td>\n",
       "      <td>5545</td>\n",
       "    </tr>\n",
       "    <tr>\n",
       "      <th>9</th>\n",
       "      <td>гид</td>\n",
       "      <td>5539</td>\n",
       "    </tr>\n",
       "    <tr>\n",
       "      <th>10</th>\n",
       "      <td>город</td>\n",
       "      <td>5068</td>\n",
       "    </tr>\n",
       "    <tr>\n",
       "      <th>11</th>\n",
       "      <td>рекомендую</td>\n",
       "      <td>5017</td>\n",
       "    </tr>\n",
       "    <tr>\n",
       "      <th>12</th>\n",
       "      <td>огромное</td>\n",
       "      <td>4846</td>\n",
       "    </tr>\n",
       "    <tr>\n",
       "      <th>13</th>\n",
       "      <td>города</td>\n",
       "      <td>4462</td>\n",
       "    </tr>\n",
       "    <tr>\n",
       "      <th>14</th>\n",
       "      <td>день</td>\n",
       "      <td>4412</td>\n",
       "    </tr>\n",
       "    <tr>\n",
       "      <th>15</th>\n",
       "      <td>человек</td>\n",
       "      <td>4362</td>\n",
       "    </tr>\n",
       "    <tr>\n",
       "      <th>16</th>\n",
       "      <td>истории</td>\n",
       "      <td>4347</td>\n",
       "    </tr>\n",
       "    <tr>\n",
       "      <th>17</th>\n",
       "      <td>понравилось</td>\n",
       "      <td>3547</td>\n",
       "    </tr>\n",
       "    <tr>\n",
       "      <th>18</th>\n",
       "      <td>понравилась</td>\n",
       "      <td>3280</td>\n",
       "    </tr>\n",
       "    <tr>\n",
       "      <th>19</th>\n",
       "      <td>места</td>\n",
       "      <td>2843</td>\n",
       "    </tr>\n",
       "    <tr>\n",
       "      <th>20</th>\n",
       "      <td>часа</td>\n",
       "      <td>2773</td>\n",
       "    </tr>\n",
       "    <tr>\n",
       "      <th>21</th>\n",
       "      <td>маршрут</td>\n",
       "      <td>2665</td>\n",
       "    </tr>\n",
       "    <tr>\n",
       "      <th>22</th>\n",
       "      <td>узнали</td>\n",
       "      <td>2649</td>\n",
       "    </tr>\n",
       "    <tr>\n",
       "      <th>23</th>\n",
       "      <td>городе</td>\n",
       "      <td>2538</td>\n",
       "    </tr>\n",
       "    <tr>\n",
       "      <th>24</th>\n",
       "      <td>рекомендуем</td>\n",
       "      <td>2534</td>\n",
       "    </tr>\n",
       "    <tr>\n",
       "      <th>25</th>\n",
       "      <td>гида</td>\n",
       "      <td>2531</td>\n",
       "    </tr>\n",
       "    <tr>\n",
       "      <th>26</th>\n",
       "      <td>обязательно</td>\n",
       "      <td>2529</td>\n",
       "    </tr>\n",
       "    <tr>\n",
       "      <th>27</th>\n",
       "      <td>вопросы</td>\n",
       "      <td>2504</td>\n",
       "    </tr>\n",
       "    <tr>\n",
       "      <th>28</th>\n",
       "      <td>информации</td>\n",
       "      <td>2273</td>\n",
       "    </tr>\n",
       "    <tr>\n",
       "      <th>29</th>\n",
       "      <td>знает</td>\n",
       "      <td>2245</td>\n",
       "    </tr>\n",
       "  </tbody>\n",
       "</table>\n",
       "</div>"
      ],
      "text/plain": [
       "           word  count\n",
       "0       спасибо  19464\n",
       "1     экскурсия  16295\n",
       "2     экскурсию  11533\n",
       "3     экскурсии  10886\n",
       "4           нам   8921\n",
       "5     интересно   6729\n",
       "6          всем   6266\n",
       "7         время   5947\n",
       "8       большое   5545\n",
       "9           гид   5539\n",
       "10        город   5068\n",
       "11   рекомендую   5017\n",
       "12     огромное   4846\n",
       "13       города   4462\n",
       "14         день   4412\n",
       "15      человек   4362\n",
       "16      истории   4347\n",
       "17  понравилось   3547\n",
       "18  понравилась   3280\n",
       "19        места   2843\n",
       "20         часа   2773\n",
       "21      маршрут   2665\n",
       "22       узнали   2649\n",
       "23       городе   2538\n",
       "24  рекомендуем   2534\n",
       "25         гида   2531\n",
       "26  обязательно   2529\n",
       "27      вопросы   2504\n",
       "28   информации   2273\n",
       "29        знает   2245"
      ]
     },
     "execution_count": 17,
     "metadata": {},
     "output_type": "execute_result"
    }
   ],
   "source": [
    "STOPWORDS = STOPWORDS.union({'это', 'которые', 'очень', 'просто', 'http', 'experience', 'tripster', 'ru'})\n",
    "all_words_filtered = filter_stop_words(all_words_filtered, STOPWORDS)\n",
    "most_common_words(all_words_filtered)"
   ]
  },
  {
   "cell_type": "code",
   "execution_count": 18,
   "metadata": {},
   "outputs": [
    {
     "data": {
      "text/plain": [
       "'экскурсия прошла отлично понравилось увлекательно интересно узнали нового ватикане риме целом удобный полезный сервис приятно удивлен сравнительно небольшие деньги получить выбор экскурсий помогут познакомиться городами наш гид александр отзывчивым приветливым молодым человеком владел информацией риме также приятно общаться другие темы получили полезные советы кушать делать покупки заказав услугу познакомитесь городом сэкономите время деньги кому обратиться консультацией что-то окажется понятно чужом городе хотела оставить слова благодарности александру неоценимую помощь время путешествия рим феврале наши римские каникулы марте года удались заранее оговорили наши тематические туры городу спасибо саше четкость быстроту переписке действительно настоящий профессионал отлично знающий рим итальянский язык культуру чувствовали александр старается именно ощущали какими-то тысячными туристами всё делается шаблону подарил нам настоящий праздник высоком профессиональном уровне души рекомендую воспользоваться услугами приветом риги ирина ps александр риме вдохновил поэтому решила попробовать поводить экскурсии туристов своем родном городе риге родилась знаю каждую улочку качестве отзыва экскурсиях превосходных степенях рим приезжала третий друзья первый поэтому экскурсии необходимы повезло наткнулась ваш сайт большое спасибо ребятам леночке александру манера изложения информации разная друзьями восторге обоих чичероне эмоциональная вполне профессиональная подача материала сколько мест достопримечательностей нам показали тех которых обычно говорят получили столько положительных эмоций всем знакомым советую воспользоваться вашим сайтом хотят насладиться поездкой качестве отзыва слова благодарности mille grazie заранее договорились экскурсии анной хотели познакомиться городом обратной стороны пройдя улочкам ходят туристические группы несмотря прохладный дождливый день эта прогулка нам запомнилась неожиданной встречей знаменитым автором песенки ах милый августин рюмочкой шнапса ресторанчике griechenbeissl православной церковью которая разделяет помещение магазиной ковров встречей туристами искали дом гауди имея виду разумеется дом хунтдертвассера побывали оно стоило из-за нестандартного взгляда человек должен соседствовать природой кофе вкуснейшим штруделем кафе централь закуску увидели прямо штеффлом станции метро древние части подземного храма произвело впечатление близко друг друга находятся история современность спасибо анне отзывчивость быструю коммуникацию подготовке поездки правильный маршрут аня подготовьте несколько подобных экскурсий трипстере пешеходные ждем новых интересных историй остались довольны самой экскурсией общением славной доброй жизнерадостной александрой спасибо спасибо полине изысканную экскурсию любите туристические места хотя немного знакомы историей франции эта экскурсия сен шапель нотр дам отель клюни сорбонна арена лютеция заключение фантастический сюрприз известный историкам искусствоведам профессорам сорбонны настоящее гурманское'"
      ]
     },
     "execution_count": 18,
     "metadata": {},
     "output_type": "execute_result"
    }
   ],
   "source": [
    "' '.join(all_words_filtered)[:3000]"
   ]
  },
  {
   "cell_type": "code",
   "execution_count": 19,
   "metadata": {},
   "outputs": [],
   "source": [
    "def build_stop_words():\n",
    "    return set(\n",
    "        stopwords.words('russian') + \n",
    "        stopwords.words('english') +\n",
    "        ['это', 'которые', 'очень', 'просто', 'http', 'experience', 'tripster', 'ru']\n",
    "    )"
   ]
  },
  {
   "cell_type": "markdown",
   "metadata": {},
   "source": [
    "## Разбиваем на предложения"
   ]
  },
  {
   "cell_type": "code",
   "execution_count": 49,
   "metadata": {},
   "outputs": [],
   "source": [
    "sent_tokenize = nltk.data.load('russian.pickle')\n",
    "\n",
    "def split_sentenses(text):\n",
    "    return sent_tokenize.tokenize(text)"
   ]
  },
  {
   "cell_type": "code",
   "execution_count": 50,
   "metadata": {},
   "outputs": [
    {
     "data": {
      "text/plain": [
       "['У вас очень удобный и полезный сервис!',\n",
       " 'Был приятно удивлен, что за сравнительно небольшие деньги можно получить такой выбор экскурсий, которые помогут лучше познакомиться с городами.',\n",
       " 'Наш гид Александр, был очень отзывчивым и приветливым молодым человеком.',\n",
       " 'Он хорошо владел информацией о Риме, а также с ним было приятно общаться и на другие темы.',\n",
       " 'Мы получили от него полезные советы где лучше кушать и делать покупки.',\n",
       " 'Заказав эту услугу, вы лучше познакомитесь с городом, сэкономите время и деньги, и вам будет к кому обратиться за консультацией, если что-то окажется не понятно в чужом городе.']"
      ]
     },
     "execution_count": 50,
     "metadata": {},
     "output_type": "execute_result"
    }
   ],
   "source": [
    "split_sentenses(reviews.text[1])"
   ]
  },
  {
   "cell_type": "markdown",
   "metadata": {},
   "source": [
    "## Объединяем всё вместе"
   ]
  },
  {
   "cell_type": "code",
   "execution_count": 51,
   "metadata": {},
   "outputs": [],
   "source": [
    "RE_WORDS = re.compile(r\"[а-яё\\-a-z]+\", re.UNICODE | re.IGNORECASE)\n",
    "\n",
    "# Двойной разрыв строки считаем эквивалентом разбиения на предложения\n",
    "def double_linebreak_to_dot(text):\n",
    "    return text.replace('\\r\\n\\r\\n', '. ')\n",
    "\n",
    "FILTER_MINUS = lambda word: word != '-'\n",
    "\n",
    "# Оставляет только слова на русском и литинице, удаляя всё лишнее\n",
    "# возвращает итератор\n",
    "def split_words(text, regex=RE_WORDS):\n",
    "    return filter(FILTER_MINUS, regex.findall(text))\n",
    "\n",
    "# Генерирует список стоп-слов для русского и английского\n",
    "def build_stop_words():\n",
    "    return set(\n",
    "        stopwords.words('russian') + \n",
    "        stopwords.words('english') +\n",
    "        ['это', 'которые', 'очень', 'просто', 'http', 'experience', 'tripster', 'ru']\n",
    "    )\n",
    "\n",
    "STOPWORDS = build_stop_words()\n",
    "\n",
    "# Фильтрует стоп-слова, возвращает итератор\n",
    "def filter_stop_words(words, stop_words=STOPWORDS):\n",
    "    return filter(lambda word: word not in stop_words and len(word) > 1, words)\n",
    "\n",
    "sent_tokenize = nltk.data.load('russian.pickle')\n",
    "\n",
    "# Разбивает текст на предложения\n",
    "# Возвращает список\n",
    "def split_sentenses(text):\n",
    "    text = double_linebreak_to_dot(text)\n",
    "    return sent_tokenize.tokenize(text)\n",
    "\n",
    "def join_words(words):\n",
    "    return ' '.join(words)"
   ]
  },
  {
   "cell_type": "markdown",
   "metadata": {},
   "source": [
    "### Очистка текста без учёта предложений"
   ]
  },
  {
   "cell_type": "code",
   "execution_count": 23,
   "metadata": {},
   "outputs": [],
   "source": [
    "def clean_text(text):\n",
    "    text = text.lower()\n",
    "    words = split_words(text)\n",
    "    words = filter_stop_words(words)\n",
    "    return join_words(words).strip()"
   ]
  },
  {
   "cell_type": "code",
   "execution_count": 24,
   "metadata": {},
   "outputs": [
    {
     "data": {
      "text/plain": [
       "'У вас очень удобный и полезный сервис! Был приятно удивлен, что за сравнительно небольшие деньги можно получить такой выбор экскурсий, которые помогут лучше познакомиться с городами. Наш гид Александр, был очень отзывчивым и приветливым молодым человеком. Он хорошо владел информацией о Риме, а также с ним было приятно общаться и на другие темы. Мы получили от него полезные советы где лучше кушать и делать покупки. Заказав эту услугу, вы лучше познакомитесь с городом, сэкономите время и деньги, и вам будет к кому обратиться за консультацией, если что-то окажется не понятно в чужом городе.'"
      ]
     },
     "execution_count": 24,
     "metadata": {},
     "output_type": "execute_result"
    }
   ],
   "source": [
    "reviews.text[1]"
   ]
  },
  {
   "cell_type": "code",
   "execution_count": 25,
   "metadata": {},
   "outputs": [
    {
     "data": {
      "text/plain": [
       "'удобный полезный сервис приятно удивлен сравнительно небольшие деньги получить выбор экскурсий помогут познакомиться городами наш гид александр отзывчивым приветливым молодым человеком владел информацией риме также приятно общаться другие темы получили полезные советы кушать делать покупки заказав услугу познакомитесь городом сэкономите время деньги кому обратиться консультацией что-то окажется понятно чужом городе'"
      ]
     },
     "execution_count": 25,
     "metadata": {},
     "output_type": "execute_result"
    }
   ],
   "source": [
    "clean_text(reviews.text[1])"
   ]
  },
  {
   "cell_type": "markdown",
   "metadata": {},
   "source": [
    "### Сохраняем отзывы с очищенным ткстом"
   ]
  },
  {
   "cell_type": "code",
   "execution_count": 26,
   "metadata": {},
   "outputs": [],
   "source": [
    "# Обрабатывает текст отзывов с помощью text_processor и сохраняет \n",
    "def process_text_and_save(reviews, file_name, text_processor):\n",
    "    reviews = reviews.copy()\n",
    "    reviews['text'] = reviews.text.map(text_processor)\n",
    "    reviews['text_len'] = reviews.text.str.len()\n",
    "    reviews = reviews.loc[reviews.text.str.len() > 1]\n",
    "    reviews.to_csv(data_path(file_name + '.csv'), index=False)\n",
    "    return reviews"
   ]
  },
  {
   "cell_type": "code",
   "execution_count": 27,
   "metadata": {},
   "outputs": [
    {
     "data": {
      "text/plain": [
       "'удобный полезный сервис приятно удивлен сравнительно небольшие деньги получить выбор экскурсий помогут познакомиться городами наш гид александр отзывчивым приветливым молодым человеком владел информацией риме также приятно общаться другие темы получили полезные советы кушать делать покупки заказав услугу познакомитесь городом сэкономите время деньги кому обратиться консультацией что-то окажется понятно чужом городе'"
      ]
     },
     "execution_count": 27,
     "metadata": {},
     "output_type": "execute_result"
    }
   ],
   "source": [
    "reviews_text_cleaned = process_text_and_save(reviews, 'reviews_text_cleaned', clean_text)\n",
    "reviews_text_cleaned.text[1]"
   ]
  },
  {
   "cell_type": "markdown",
   "metadata": {},
   "source": [
    "### Очистка текста с предварительным разбиением на предложения"
   ]
  },
  {
   "cell_type": "code",
   "execution_count": 52,
   "metadata": {},
   "outputs": [],
   "source": [
    "def clean_sentences(text):\n",
    "    sentences = split_sentenses(text)\n",
    "    return filter(len, map(clean_text, sentences))"
   ]
  },
  {
   "cell_type": "code",
   "execution_count": 53,
   "metadata": {},
   "outputs": [
    {
     "data": {
      "text/plain": [
       "'удобный полезный сервис|приятно удивлен сравнительно небольшие деньги получить выбор экскурсий помогут познакомиться городами|наш гид александр отзывчивым приветливым молодым человеком|владел информацией риме также приятно общаться другие темы|получили полезные советы кушать делать покупки|заказав услугу познакомитесь городом сэкономите время деньги кому обратиться консультацией что-то окажется понятно чужом городе'"
      ]
     },
     "execution_count": 53,
     "metadata": {},
     "output_type": "execute_result"
    }
   ],
   "source": [
    "'|'.join(clean_sentences(reviews.text[1]))"
   ]
  },
  {
   "cell_type": "code",
   "execution_count": 30,
   "metadata": {},
   "outputs": [
    {
     "data": {
      "text/plain": [
       "Index(['id', 'subject', 'author', 'rate', 'text', 'text_len'], dtype='object')"
      ]
     },
     "execution_count": 30,
     "metadata": {},
     "output_type": "execute_result"
    }
   ],
   "source": [
    "reviews.columns"
   ]
  },
  {
   "cell_type": "code",
   "execution_count": 55,
   "metadata": {},
   "outputs": [],
   "source": [
    "# Разбивает текст отзывов на предложения с помощью  sentence_processor и сохраняет \n",
    "def process_sentences_and_save(reviews, file_name, sentence_processor):\n",
    "    reviews = pd.DataFrame([\n",
    "        (\n",
    "            review.id, \n",
    "            sentence_num,\n",
    "            review.subject, \n",
    "            review.author, \n",
    "            review.rate, \n",
    "            clean_text(sentence),\n",
    "            sentence,\n",
    "        )\n",
    "        for review_num, review in reviews.iterrows()       \n",
    "        for sentence_num, sentence in enumerate(sentence_processor(review.text), 1)\n",
    "    ], columns=[\n",
    "        'id', 'sentence_num', 'subject', 'author', 'rate', 'text', 'text_orig'\n",
    "    ])\n",
    "    reviews['text_len'] = reviews.text.str.len()\n",
    "    reviews = reviews.loc[reviews.text.str.len() > 1]    \n",
    "    reviews.to_csv(data_path(file_name + '.csv'), index=False)\n",
    "    return reviews"
   ]
  },
  {
   "cell_type": "code",
   "execution_count": 57,
   "metadata": {},
   "outputs": [
    {
     "name": "stdout",
     "output_type": "stream",
     "text": [
      "CPU times: user 20.4 s, sys: 148 ms, total: 20.5 s\n",
      "Wall time: 20.6 s\n"
     ]
    }
   ],
   "source": [
    "%%time\n",
    "reviews_sentences_cleaned = process_sentences_and_save(\n",
    "    reviews, 'reviews_sentences_cleaned', split_sentenses\n",
    ")\n",
    "reviews_sentences_cleaned.text[1]"
   ]
  },
  {
   "cell_type": "markdown",
   "metadata": {},
   "source": [
    "## Лемматизация"
   ]
  },
  {
   "cell_type": "code",
   "execution_count": 39,
   "metadata": {},
   "outputs": [],
   "source": [
    "from pymystem3 import Mystem\n",
    "\n",
    "mystem = Mystem()\n",
    "\n",
    "def lemmatize(text):\n",
    "    lemmas = mystem.lemmatize(text)\n",
    "    return ''.join(lemmas).strip()"
   ]
  },
  {
   "cell_type": "code",
   "execution_count": 40,
   "metadata": {
    "scrolled": true
   },
   "outputs": [
    {
     "data": {
      "text/plain": [
       "'удобный полезный сервис приятно удивлять сравнительно небольшой деньги получать выбор экскурсия помогать познакомиться город наш гид александр отзывчивый приветливый молодой человек владеть информация рим также приятно общаться другой тема получать полезный совет кушать делать покупка заказывать услуга познакомиться город сэкономить время деньги кто обращаться консультация что-то оказываться понятно чужой город'"
      ]
     },
     "execution_count": 40,
     "metadata": {},
     "output_type": "execute_result"
    }
   ],
   "source": [
    "lemmatize(reviews_text_cleaned.text[1])"
   ]
  },
  {
   "cell_type": "markdown",
   "metadata": {},
   "source": [
    "### Лемматизация и сохранение отзывов с очищенным текстом"
   ]
  },
  {
   "cell_type": "code",
   "execution_count": 45,
   "metadata": {},
   "outputs": [],
   "source": [
    "def save_lemmatized(reviews, file_name, lemmatize):\n",
    "    reviews = reviews.copy()\n",
    "    reviews['text'] = reviews.text.map(lemmatize)\n",
    "    reviews['text_len'] = reviews.text.str.len()\n",
    "    reviews.to_csv(data_path(file_name + '.csv'), index=False)\n",
    "    return reviews"
   ]
  },
  {
   "cell_type": "code",
   "execution_count": 44,
   "metadata": {},
   "outputs": [
    {
     "name": "stdout",
     "output_type": "stream",
     "text": [
      "CPU times: user 5.84 s, sys: 542 ms, total: 6.39 s\n",
      "Wall time: 51.7 s\n"
     ]
    }
   ],
   "source": [
    "%%time\n",
    "reviews_text_lemmatized = save_lemmatized(\n",
    "    reviews_text_cleaned, \n",
    "    'reviews_text_lemmatized',\n",
    "    lemmatize\n",
    ")"
   ]
  },
  {
   "cell_type": "code",
   "execution_count": 58,
   "metadata": {},
   "outputs": [
    {
     "name": "stdout",
     "output_type": "stream",
     "text": [
      "CPU times: user 13.1 s, sys: 1.98 s, total: 15.1 s\n",
      "Wall time: 1min 5s\n"
     ]
    }
   ],
   "source": [
    "%%time\n",
    "reviews_sentences_lemmatized = save_lemmatized(\n",
    "    reviews_sentences_cleaned, \n",
    "    'reviews_sentences_lemmatized',\n",
    "    lemmatize\n",
    ")"
   ]
  },
  {
   "cell_type": "code",
   "execution_count": null,
   "metadata": {},
   "outputs": [],
   "source": []
  }
 ],
 "metadata": {
  "kernelspec": {
   "display_name": "Python 3",
   "language": "python",
   "name": "python3"
  },
  "language_info": {
   "codemirror_mode": {
    "name": "ipython",
    "version": 3
   },
   "file_extension": ".py",
   "mimetype": "text/x-python",
   "name": "python",
   "nbconvert_exporter": "python",
   "pygments_lexer": "ipython3",
   "version": "3.6.4"
  }
 },
 "nbformat": 4,
 "nbformat_minor": 2
}
